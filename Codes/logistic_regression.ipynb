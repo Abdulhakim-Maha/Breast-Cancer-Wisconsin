{
  "nbformat": 4,
  "nbformat_minor": 2,
  "metadata": {
    "colab": {
      "name": "Logistic Regression",
      "provenance": []
    },
    "kernelspec": {
      "name": "python3",
      "display_name": "Python 3.9.2 64-bit"
    },
    "language_info": {
      "name": "python",
      "version": "3.9.2",
      "mimetype": "text/x-python",
      "codemirror_mode": {
        "name": "ipython",
        "version": 3
      },
      "pygments_lexer": "ipython3",
      "nbconvert_exporter": "python",
      "file_extension": ".py"
    },
    "interpreter": {
      "hash": "eceb7a8e593eecf964bee5cd24a0245b366a6d3412387e804a3878e990311275"
    }
  },
  "cells": [
    {
      "cell_type": "markdown",
      "source": [
        "# Logistic Regression"
      ],
      "metadata": {
        "id": "Q8X8xDwS6vgS",
        "colab_type": "text"
      }
    },
    {
      "cell_type": "markdown",
      "source": [
        "## Importing the libraries"
      ],
      "metadata": {
        "id": "PEGG4I6n60cM",
        "colab_type": "text"
      }
    },
    {
      "cell_type": "code",
      "execution_count": 13,
      "source": [
        "import pandas as pd"
      ],
      "outputs": [],
      "metadata": {
        "id": "D4b029YC7C-y",
        "colab_type": "code",
        "colab": {}
      }
    },
    {
      "cell_type": "markdown",
      "source": [
        "## Importing the dataset"
      ],
      "metadata": {
        "id": "Aa536pRY7Eq5",
        "colab_type": "text"
      }
    },
    {
      "cell_type": "code",
      "execution_count": 14,
      "source": [
        "dataset = pd.read_csv('../Dataset/breast_cancer.csv')\r\n",
        "X = dataset.iloc[:, 1:-1].values\r\n",
        "y = dataset.iloc[:, -1].values"
      ],
      "outputs": [],
      "metadata": {
        "id": "4POXlqg47Ny3",
        "colab_type": "code",
        "colab": {}
      }
    },
    {
      "cell_type": "markdown",
      "source": [
        "## Splitting the dataset into the Training set and Test set"
      ],
      "metadata": {
        "id": "0AnzJQCj7TLO",
        "colab_type": "text"
      }
    },
    {
      "cell_type": "code",
      "execution_count": 15,
      "source": [
        "from sklearn.model_selection import train_test_split\r\n",
        "X_train, X_test, y_train, y_test = train_test_split(X, y, test_size = 0.2, random_state = 0)"
      ],
      "outputs": [],
      "metadata": {
        "id": "WOQwyng57dp2",
        "colab_type": "code",
        "colab": {}
      }
    },
    {
      "cell_type": "markdown",
      "source": [
        "## Training the Logistic Regression model on the Training set"
      ],
      "metadata": {
        "id": "pS1Q-n_A7iZ_",
        "colab_type": "text"
      }
    },
    {
      "cell_type": "code",
      "execution_count": 16,
      "source": [
        "from sklearn.linear_model import LogisticRegression\r\n",
        "classifier = LogisticRegression(random_state = 0)\r\n",
        "classifier.fit(X_train, y_train)"
      ],
      "outputs": [
        {
          "output_type": "execute_result",
          "data": {
            "text/plain": [
              "LogisticRegression(random_state=0)"
            ]
          },
          "metadata": {},
          "execution_count": 16
        }
      ],
      "metadata": {
        "id": "9V-LgiUa78lX",
        "colab_type": "code",
        "outputId": "ce5e5660-1b7c-4750-dc12-837be0ea2fc5",
        "colab": {
          "base_uri": "https://localhost:8080/",
          "height": 101
        }
      }
    },
    {
      "cell_type": "markdown",
      "source": [
        "## Predicting the Test set results"
      ],
      "metadata": {
        "id": "4cgD7EnB8Dnd",
        "colab_type": "text"
      }
    },
    {
      "cell_type": "code",
      "execution_count": 17,
      "source": [
        "y_pred = classifier.predict(X_test)"
      ],
      "outputs": [],
      "metadata": {
        "id": "1B4zQvOq8M7H",
        "colab_type": "code",
        "colab": {}
      }
    },
    {
      "cell_type": "markdown",
      "source": [
        "## Making the Confusion Matrix"
      ],
      "metadata": {
        "id": "26CHkZbs8Tu5",
        "colab_type": "text"
      }
    },
    {
      "cell_type": "code",
      "execution_count": 18,
      "source": [
        "from sklearn.metrics import confusion_matrix\r\n",
        "cm = confusion_matrix(y_test, y_pred)\r\n",
        "print(cm)"
      ],
      "outputs": [
        {
          "output_type": "stream",
          "name": "stdout",
          "text": [
            "[[84  3]\n",
            " [ 3 47]]\n"
          ]
        }
      ],
      "metadata": {
        "id": "5BN8qx6e8aNZ",
        "colab_type": "code",
        "outputId": "b7b0ba3d-3183-426c-f45a-72d5d8ddb075",
        "colab": {
          "base_uri": "https://localhost:8080/",
          "height": 50
        }
      }
    },
    {
      "cell_type": "markdown",
      "source": [
        "## Computing the accuracy with k-Fold Cross Validation"
      ],
      "metadata": {
        "id": "kMErnLnu8hmb",
        "colab_type": "text"
      }
    },
    {
      "cell_type": "code",
      "execution_count": 19,
      "source": [
        "from sklearn.model_selection import cross_val_score\r\n",
        "accuracies = cross_val_score(estimator = classifier, X = X_train, y = y_train, cv = 10)\r\n",
        "print(\"Accuracy: {:.2f} %\".format(accuracies.mean()*100))\r\n",
        "print(\"Standard Deviation: {:.2f} %\".format(accuracies.std()*100))"
      ],
      "outputs": [
        {
          "output_type": "stream",
          "name": "stdout",
          "text": [
            "Accuracy: 96.70 %\n",
            "Standard Deviation: 1.97 %\n"
          ]
        }
      ],
      "metadata": {
        "id": "waJZi8fw8m_2",
        "colab_type": "code",
        "outputId": "985787e6-54db-42ca-edde-950ade8d1ac6",
        "colab": {
          "base_uri": "https://localhost:8080/",
          "height": 50
        }
      }
    }
  ]
}